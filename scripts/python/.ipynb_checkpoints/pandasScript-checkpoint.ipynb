{
 "cells": [
  {
   "cell_type": "code",
   "execution_count": 30,
   "id": "a480545c",
   "metadata": {},
   "outputs": [
    {
     "data": {
      "text/html": [
       "<div>\n",
       "<style scoped>\n",
       "    .dataframe tbody tr th:only-of-type {\n",
       "        vertical-align: middle;\n",
       "    }\n",
       "\n",
       "    .dataframe tbody tr th {\n",
       "        vertical-align: top;\n",
       "    }\n",
       "\n",
       "    .dataframe thead th {\n",
       "        text-align: right;\n",
       "    }\n",
       "</style>\n",
       "<table border=\"1\" class=\"dataframe\">\n",
       "  <thead>\n",
       "    <tr style=\"text-align: right;\">\n",
       "      <th></th>\n",
       "      <th>CUSTOMER_ID</th>\n",
       "      <th>sumOutBytes</th>\n",
       "    </tr>\n",
       "  </thead>\n",
       "  <tbody>\n",
       "    <tr>\n",
       "      <th>0</th>\n",
       "      <td>Customer-10054</td>\n",
       "      <td>0.117690</td>\n",
       "    </tr>\n",
       "    <tr>\n",
       "      <th>1</th>\n",
       "      <td>Customer-10118</td>\n",
       "      <td>0.013153</td>\n",
       "    </tr>\n",
       "    <tr>\n",
       "      <th>2</th>\n",
       "      <td>Customer-10272</td>\n",
       "      <td>0.388911</td>\n",
       "    </tr>\n",
       "    <tr>\n",
       "      <th>3</th>\n",
       "      <td>Customer-10326</td>\n",
       "      <td>3.644097</td>\n",
       "    </tr>\n",
       "    <tr>\n",
       "      <th>4</th>\n",
       "      <td>Customer-10340</td>\n",
       "      <td>0.114822</td>\n",
       "    </tr>\n",
       "  </tbody>\n",
       "</table>\n",
       "</div>"
      ],
      "text/plain": [
       "      CUSTOMER_ID  sumOutBytes\n",
       "0  Customer-10054     0.117690\n",
       "1  Customer-10118     0.013153\n",
       "2  Customer-10272     0.388911\n",
       "3  Customer-10326     3.644097\n",
       "4  Customer-10340     0.114822"
      ]
     },
     "execution_count": 30,
     "metadata": {},
     "output_type": "execute_result"
    }
   ],
   "source": [
    "# Import pandas\n",
    "import pandas as pd\n",
    "\n",
    "# Read Netflow Data\n",
    "netflowDf = pd.read_csv(\"netflow.csv\")\n",
    "\n",
    "# Read CDR Data\n",
    "cdrDf = pd.read_csv(\"cdr.csv\")\n",
    "\n",
    "# Join netflowDf with cdrDf based on SOURCE_ADDRESS and PRIVATE_IP columns, respectively.\n",
    "final_df = netflowDf.merge(cdrDf, left_on = \"SOURCE_ADDRESS\", right_on = \"PRIVATE_IP\", how=\"inner\")\n",
    "\n",
    "# Specify integer columns\n",
    "int_cols = [\"START_DATETIME\", \"NETFLOW_DATETIME\", \"END_DATETIME\", \"SOURCE_PORT\", \"START_REAL_PORT\", \"END_REAL_PORT\"]\n",
    "\n",
    "# Change the int_cols columns format to int in order to be able to apply equal, smaller, and bigger calculations on them \n",
    "for intCol in int_cols:\n",
    "    final_df[intCol] = final_df[intCol].astype(int)\n",
    "\n",
    "# Take observations which achive the following crateria:\n",
    "# A. NETFLOW_DATETIME betwen START_DATETIME and END_DATETIME\n",
    "# B. SOURCE_PORT between START_REAL_PORT and END_REAL_PORT\n",
    "final_df = final_df[(final_df[\"START_DATETIME\"] <= final_df[\"NETFLOW_DATETIME\"]) & (final_df[\"NETFLOW_DATETIME\"] <= final_df[\"END_DATETIME\"])]\n",
    "final_df = final_df[(final_df[\"START_REAL_PORT\"] <= final_df[\"SOURCE_PORT\"]) & (final_df[\"SOURCE_PORT\"] <= final_df[\"END_REAL_PORT\"])]\n",
    "\n",
    "# Change the IN_BYTES column format to float in order to be able to apply sum aggregation on it\n",
    "final_df[\"IN_BYTES\"] = final_df[\"IN_BYTES\"].astype(float)\n",
    "\n",
    "# Group by the df based on CUSTOMER_ID column and sum the IN_BYTES column\n",
    "final_df = final_df.groupby([\"CUSTOMER_ID\"], as_index=False).agg(sumOutBytes = (\"IN_BYTES\", \"sum\"))\n",
    "\n",
    "# Convert the obtained column from Bytes to MegaBytes\n",
    "final_df[\"sumOutBytes\"] = final_df[\"sumOutBytes\"] / (1024 * 1024)\n",
    "\n",
    "# Print the first 5 rows of the obtained result\n",
    "print(final_df.head(5))\n",
    "\n",
    "final_df.to_csv(\"result.csv\", index=False)"
   ]
  },
  {
   "cell_type": "code",
   "execution_count": 17,
   "id": "5fe002d6",
   "metadata": {},
   "outputs": [],
   "source": []
  },
  {
   "cell_type": "code",
   "execution_count": null,
   "id": "7a2336fc",
   "metadata": {},
   "outputs": [],
   "source": []
  }
 ],
 "metadata": {
  "kernelspec": {
   "display_name": "tf",
   "language": "python",
   "name": "tf"
  },
  "language_info": {
   "codemirror_mode": {
    "name": "ipython",
    "version": 3
   },
   "file_extension": ".py",
   "mimetype": "text/x-python",
   "name": "python",
   "nbconvert_exporter": "python",
   "pygments_lexer": "ipython3",
   "version": "3.9.17"
  }
 },
 "nbformat": 4,
 "nbformat_minor": 5
}
